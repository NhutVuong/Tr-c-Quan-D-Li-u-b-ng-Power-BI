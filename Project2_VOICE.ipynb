{
 "cells": [
  {
   "cell_type": "code",
   "execution_count": 1,
   "id": "92c6bf0d",
   "metadata": {},
   "outputs": [
    {
     "name": "stdout",
     "output_type": "stream",
     "text": [
      "Requirement already satisfied: pyttsx3 in c:\\users\\admin\\anaconda3\\lib\\site-packages (2.91)\n",
      "Requirement already satisfied: comtypes in c:\\users\\admin\\anaconda3\\lib\\site-packages (from pyttsx3) (1.4.6)\n",
      "Requirement already satisfied: pypiwin32 in c:\\users\\admin\\anaconda3\\lib\\site-packages (from pyttsx3) (223)\n",
      "Requirement already satisfied: pywin32 in c:\\users\\admin\\anaconda3\\lib\\site-packages (from pyttsx3) (305.1)\n",
      "Note: you may need to restart the kernel to use updated packages.\n"
     ]
    }
   ],
   "source": [
    "pip install pyttsx3\n"
   ]
  },
  {
   "cell_type": "code",
   "execution_count": 2,
   "id": "0cc8237a",
   "metadata": {},
   "outputs": [
    {
     "name": "stdout",
     "output_type": "stream",
     "text": [
      "Requirement already satisfied: SpeechRecognition in c:\\users\\admin\\anaconda3\\lib\\site-packages (3.10.4)\n",
      "Requirement already satisfied: requests>=2.26.0 in c:\\users\\admin\\anaconda3\\lib\\site-packages (from SpeechRecognition) (2.31.0)\n",
      "Requirement already satisfied: typing-extensions in c:\\users\\admin\\anaconda3\\lib\\site-packages (from SpeechRecognition) (4.7.1)\n",
      "Requirement already satisfied: charset-normalizer<4,>=2 in c:\\users\\admin\\anaconda3\\lib\\site-packages (from requests>=2.26.0->SpeechRecognition) (2.0.4)\n",
      "Requirement already satisfied: idna<4,>=2.5 in c:\\users\\admin\\anaconda3\\lib\\site-packages (from requests>=2.26.0->SpeechRecognition) (3.4)\n",
      "Requirement already satisfied: urllib3<3,>=1.21.1 in c:\\users\\admin\\anaconda3\\lib\\site-packages (from requests>=2.26.0->SpeechRecognition) (1.26.16)\n",
      "Requirement already satisfied: certifi>=2017.4.17 in c:\\users\\admin\\anaconda3\\lib\\site-packages (from requests>=2.26.0->SpeechRecognition) (2024.7.4)\n",
      "Note: you may need to restart the kernel to use updated packages.\n"
     ]
    }
   ],
   "source": [
    "pip install SpeechRecognition\n"
   ]
  },
  {
   "cell_type": "code",
   "execution_count": 3,
   "id": "d75461c8",
   "metadata": {},
   "outputs": [
    {
     "name": "stdout",
     "output_type": "stream",
     "text": [
      "Requirement already satisfied: pyaudio in c:\\users\\admin\\anaconda3\\lib\\site-packages (0.2.14)\n",
      "Note: you may need to restart the kernel to use updated packages.\n"
     ]
    }
   ],
   "source": [
    "\n",
    "pip install pyaudio"
   ]
  },
  {
   "cell_type": "code",
   "execution_count": null,
   "id": "86883700",
   "metadata": {},
   "outputs": [],
   "source": []
  },
  {
   "cell_type": "code",
   "execution_count": null,
   "id": "85a5c910",
   "metadata": {},
   "outputs": [
    {
     "name": "stdout",
     "output_type": "stream",
     "text": [
      "Voice Ai: Good Night Guy\n",
      "Voice Ai: Can I help you ?\n"
     ]
    }
   ],
   "source": [
    "import  pyttsx3 \n",
    "import datetime\n",
    "import speech_recognition as sr\n",
    "import webbrowser as wb\n",
    "\n",
    "friday = pyttsx3.init()\n",
    "voice = friday.getProperty('voices') #Lấy giọng nói\n",
    "friday.setProperty('voice',voice[0].id)#voice[0].id (giọng nam),voice[1].id (giọng nữ)\n",
    "\n",
    "def speak(audio): #Tạo giọng nói cho AI\n",
    "    print('Voice Ai: ' + audio)\n",
    "    friday.say(audio)\n",
    "    friday.runAndWait()\n",
    "\n",
    "def time(): #Đọc giờ hiện tại\n",
    "    Time = datetime.datetime.now().strftime(\"%I:%M:%p\")#%I:Số giờ, %M:số phút, %p:AM or PM\n",
    "    speak(Time) \n",
    "\n",
    "def welcome():\n",
    "    hour = datetime.datetime.now().hour\n",
    "    if hour >= 5 and hour <= 10:\n",
    "        speak(\"Good Morning Guy\")\n",
    "    elif hour >= 10 and hour <= 13:\n",
    "        speak(\"Good Noon Guy\")\n",
    "    elif hour >=13 and hour <= 17:\n",
    "        speak(\"Good Afternoon Guy\")\n",
    "    elif hour >=17 and hour <= 22:\n",
    "        speak(\"Good Night Guy\")\n",
    "    else:\n",
    "        speak(\"Why haven't you slept now\")\n",
    "    speak(\"Can I help you ?\")\n",
    "    \n",
    "def command():\n",
    "    c = sr.Recognizer()\n",
    "    with sr.Microphone() as source: #Nguồn lấy giọng nói\n",
    "        c.pause_threshold = 2 #Dừng 2 giây để nghe lệnh mới\n",
    "        audio = c.listen(source)\n",
    "    try:\n",
    "        query = c.recognize_google (audio,language = 'en')\n",
    "        print(\"Xành Khanh: \" + query)\n",
    "    except sr.UnknownValueError:\n",
    "        print(\"Can you repeat ? or Typing command\")\n",
    "        query = str(input(\"Enter what you need here: \"))\n",
    "    return query\n",
    "\n",
    "if __name__ == \"__main__\":\n",
    "    welcome()\n",
    "    while True:\n",
    "        query = command().lower() #Nhận mệnh lệnh không viết hoa\n",
    "        if 'google' in query:\n",
    "            speak (\"What do you want to search ?\")\n",
    "            search =  command().lower()\n",
    "            url =f\"https://www.google.gg/search?q={search}\"\n",
    "            wb.get().open(url)\n",
    "            speak(f\"Here is your {search} on google\")\n",
    "            \n",
    "        if 'youtube' in query:\n",
    "            speak (\"What do you want to search ?\")\n",
    "            search =  command().lower()\n",
    "            url =f\"https://www.youtube.com/search?q={search}\"\n",
    "            wb.get().open(url)\n",
    "            speak(f\"Here is your {search} on youtube\")\n",
    "        elif 'time' in query:\n",
    "            time()\n",
    "        elif 'bye' in query:\n",
    "            speak (\"Bye Guy\")\n",
    "            beark"
   ]
  },
  {
   "cell_type": "code",
   "execution_count": null,
   "id": "5eda66d0",
   "metadata": {},
   "outputs": [],
   "source": []
  }
 ],
 "metadata": {
  "kernelspec": {
   "display_name": "Python 3 (ipykernel)",
   "language": "python",
   "name": "python3"
  },
  "language_info": {
   "codemirror_mode": {
    "name": "ipython",
    "version": 3
   },
   "file_extension": ".py",
   "mimetype": "text/x-python",
   "name": "python",
   "nbconvert_exporter": "python",
   "pygments_lexer": "ipython3",
   "version": "3.11.5"
  }
 },
 "nbformat": 4,
 "nbformat_minor": 5
}
